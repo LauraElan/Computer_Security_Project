{
 "cells": [
  {
   "cell_type": "markdown",
   "metadata": {},
   "source": [
    "# cross_valid.py"
   ]
  },
  {
   "cell_type": "code",
   "execution_count": 3,
   "metadata": {},
   "outputs": [],
   "source": [
    "from sklearn.model_selection import StratifiedKFold\n",
    "import pickle as pkl\n",
    "import pandas as pd\n",
    "import glog as log\n",
    "import numpy as np\n",
    "\n",
    "\n",
    "def rankFeatures(clf, featureNames, top=10):\n",
    "    \"\"\"Given a trained classifier that is able to rank features,\n",
    "    sort the feature names in @featureNames, and print several top features.\n",
    "    Args:\n",
    "        cls: a fitted classifier having the scores of feature importances.\n",
    "        featureNames: names of the features.\n",
    "        top: how many top features to print to the stdout.\n",
    "    Returns:\n",
    "        sortedFeatures, feature names sorted by its importance.\n",
    "        sortedFeatureImportances, the scores for each item in sortedFeatures.\n",
    "    \"\"\"\n",
    "    raise NotImplementedError()\n",
    "\n",
    "\n",
    "def crossValidate(clf, X, Y, featureNames, trainFunc, fold=5):\n",
    "    \"\"\"Cross validate using stratified k-fold split.\n",
    "    Args:\n",
    "        clf: a sklearn classifier of any type.\n",
    "        (X, Y): feature matrix and label vector from the dataset.\n",
    "        featureNames: column names of @X.\n",
    "        tranFunc: a function object that implements how to fit the @clf.\n",
    "        fold: number of fold to run for cross validation.\n",
    "    Returns:\n",
    "        Metrics on each validation fold as a dictionary, e.g.\n",
    "            result['ValidAccuList'] = [accu_1, accu_2, ..., accu_k]\n",
    "            result['ValidLossList'] = [loss_1, loss_2, ..., loss_k]\n",
    "            ...\n",
    "    \"\"\"\n",
    "    raise NotImplementedError()"
   ]
  },
  {
   "cell_type": "code",
   "execution_count": 4,
   "metadata": {},
   "outputs": [],
   "source": [
    "def hello():\n",
    "    print(\"hello\")"
   ]
  },
  {
   "cell_type": "code",
   "execution_count": null,
   "metadata": {},
   "outputs": [],
   "source": []
  }
 ],
 "metadata": {
  "kernelspec": {
   "display_name": "Python 3",
   "language": "python",
   "name": "python3"
  },
  "language_info": {
   "codemirror_mode": {
    "name": "ipython",
    "version": 3
   },
   "file_extension": ".py",
   "mimetype": "text/x-python",
   "name": "python",
   "nbconvert_exporter": "python",
   "pygments_lexer": "ipython3",
   "version": "3.5.3"
  }
 },
 "nbformat": 4,
 "nbformat_minor": 2
}
