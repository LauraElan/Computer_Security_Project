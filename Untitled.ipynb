{
 "cells": [
  {
   "cell_type": "code",
   "execution_count": 1,
   "metadata": {
    "scrolled": true
   },
   "outputs": [
    {
     "name": "stdout",
     "output_type": "stream",
     "text": [
      "0.600028741752\n",
      "[0.5998, 0.60034, 0.59972, 0.59703, 0.6011860118601186, 0.59709, 0.59985, 0.60109, 0.59879, 0.6010860108601086, 0.59827, 0.59895, 0.59856, 0.59686, 0.6018760187601876, 0.59941, 0.60089, 0.59964, 0.59973, 0.6015660156601566, 0.60095, 0.59859, 0.59826, 0.59721, 0.6009660096600966, 0.59969, 0.60117, 0.60093, 0.59777, 0.6019560195601956, 0.60031, 0.60106, 0.59795, 0.59781, 0.6017660176601766, 0.5985, 0.60086, 0.59838, 0.60161, 0.6025560255602556, 0.59926, 0.60149, 0.60324, 0.59729, 0.6009260092600927, 0.60037, 0.60156, 0.60112, 0.59873, 0.6012960129601296, 0.60222, 0.60127, 0.60085, 0.59962, 0.6036460364603646, 0.59748, 0.60076, 0.59993, 0.59778, 0.6016760167601676, 0.60156, 0.60252, 0.59999, 0.59637, 0.6008860088600886]\n"
     ]
    }
   ],
   "source": [
    "with open('accuracy_test_500k') as f:\n",
    "    content = f.readlines()\n",
    "content = [float(x.strip()) for x in content] \n",
    "print(sum(content)/len(content))\n",
    "print(content)"
   ]
  },
  {
   "cell_type": "code",
   "execution_count": null,
   "metadata": {},
   "outputs": [],
   "source": []
  }
 ],
 "metadata": {
  "kernelspec": {
   "display_name": "Python 2",
   "language": "python",
   "name": "python2"
  },
  "language_info": {
   "codemirror_mode": {
    "name": "ipython",
    "version": 2
   },
   "file_extension": ".py",
   "mimetype": "text/x-python",
   "name": "python",
   "nbconvert_exporter": "python",
   "pygments_lexer": "ipython2",
   "version": "2.7.13"
  }
 },
 "nbformat": 4,
 "nbformat_minor": 2
}
